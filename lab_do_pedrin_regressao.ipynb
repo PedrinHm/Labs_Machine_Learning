{
  "cells": [
    {
      "cell_type": "markdown",
      "metadata": {
        "id": "view-in-github",
        "colab_type": "text"
      },
      "source": [
        "<a href=\"https://colab.research.google.com/github/PedrinHm/Labs_Machine_Learning/blob/main/lab_do_pedrin_regressao.ipynb\" target=\"_parent\"><img src=\"https://colab.research.google.com/assets/colab-badge.svg\" alt=\"Open In Colab\"/></a>"
      ]
    },
    {
      "cell_type": "markdown",
      "metadata": {
        "id": "CI0vOHsY7Aio"
      },
      "source": [
        "\n",
        "## **Projeto Prático - Regressão Linear (AirBnb)**\n",
        "\n",
        "\n",
        "---\n",
        "\n",
        "\n",
        "<br>\n",
        "UNIRV - UNIVERSIDADE DE RIO VERDE<br>\n",
        "Faculdade de Engenharia de Software<br><br>\n",
        "\n",
        "\n",
        "**Aluno: Pedro Henrique Mendes**<br>\n",
        "pedro.h.mendes@academico.unirv.edu.br<br>\n",
        "**Prof. Me. Sandro Silva Moreira**<br>\n",
        "sandro.moreira@unirv.edu.br<br><br>\n",
        "\n",
        "\n",
        "---\n",
        "\n"
      ]
    },
    {
      "cell_type": "code",
      "execution_count": 1,
      "metadata": {
        "id": "cgGCs0yK68c4",
        "colab": {
          "base_uri": "https://localhost:8080/"
        },
        "outputId": "41a60db9-6177-4dec-83e5-5125dc2d0dd2"
      },
      "outputs": [
        {
          "output_type": "stream",
          "name": "stdout",
          "text": [
            "Colab only includes TensorFlow 2.x; %tensorflow_version has no effect.\n",
            "You are using TensorFlow version 2.12.0\n",
            "Enable a GPU before running this notebook.\n"
          ]
        }
      ],
      "source": [
        "%tensorflow_version 2.x\n",
        "import tensorflow as tf\n",
        "print(\"You are using TensorFlow version\", tf.__version__)\n",
        "if len(tf.config.list_physical_devices('GPU')) > 0:\n",
        "  print(\"You have a GPU enabled.\")\n",
        "else:\n",
        "  print(\"Enable a GPU before running this notebook.\")"
      ]
    },
    {
      "cell_type": "code",
      "source": [
        "pip install category_encoders"
      ],
      "metadata": {
        "id": "3wifjp5F0VBR",
        "colab": {
          "base_uri": "https://localhost:8080/"
        },
        "outputId": "6abc8a76-376b-4945-9bfe-3eb2fb00d913"
      },
      "execution_count": 2,
      "outputs": [
        {
          "output_type": "stream",
          "name": "stdout",
          "text": [
            "Collecting category_encoders\n",
            "  Downloading category_encoders-2.6.3-py2.py3-none-any.whl (81 kB)\n",
            "\u001b[2K     \u001b[90m━━━━━━━━━━━━━━━━━━━━━━━━━━━━━━━━━━━━━━━━\u001b[0m \u001b[32m81.9/81.9 kB\u001b[0m \u001b[31m632.5 kB/s\u001b[0m eta \u001b[36m0:00:00\u001b[0m\n",
            "\u001b[?25hRequirement already satisfied: numpy>=1.14.0 in /usr/local/lib/python3.10/dist-packages (from category_encoders) (1.23.5)\n",
            "Requirement already satisfied: scikit-learn>=0.20.0 in /usr/local/lib/python3.10/dist-packages (from category_encoders) (1.2.2)\n",
            "Requirement already satisfied: scipy>=1.0.0 in /usr/local/lib/python3.10/dist-packages (from category_encoders) (1.11.4)\n",
            "Requirement already satisfied: statsmodels>=0.9.0 in /usr/local/lib/python3.10/dist-packages (from category_encoders) (0.14.1)\n",
            "Requirement already satisfied: pandas>=1.0.5 in /usr/local/lib/python3.10/dist-packages (from category_encoders) (1.5.3)\n",
            "Requirement already satisfied: patsy>=0.5.1 in /usr/local/lib/python3.10/dist-packages (from category_encoders) (0.5.6)\n",
            "Requirement already satisfied: python-dateutil>=2.8.1 in /usr/local/lib/python3.10/dist-packages (from pandas>=1.0.5->category_encoders) (2.8.2)\n",
            "Requirement already satisfied: pytz>=2020.1 in /usr/local/lib/python3.10/dist-packages (from pandas>=1.0.5->category_encoders) (2023.4)\n",
            "Requirement already satisfied: six in /usr/local/lib/python3.10/dist-packages (from patsy>=0.5.1->category_encoders) (1.16.0)\n",
            "Requirement already satisfied: joblib>=1.1.1 in /usr/local/lib/python3.10/dist-packages (from scikit-learn>=0.20.0->category_encoders) (1.3.2)\n",
            "Requirement already satisfied: threadpoolctl>=2.0.0 in /usr/local/lib/python3.10/dist-packages (from scikit-learn>=0.20.0->category_encoders) (3.3.0)\n",
            "Requirement already satisfied: packaging>=21.3 in /usr/local/lib/python3.10/dist-packages (from statsmodels>=0.9.0->category_encoders) (23.2)\n",
            "Installing collected packages: category_encoders\n",
            "Successfully installed category_encoders-2.6.3\n"
          ]
        }
      ]
    },
    {
      "cell_type": "code",
      "execution_count": 3,
      "metadata": {
        "id": "o6H2MjZ4_F7q"
      },
      "outputs": [],
      "source": [
        "import keras\n",
        "from keras.models import Sequential\n",
        "from keras.layers import Dense, Dropout\n",
        "from keras.layers import Flatten\n",
        "\n",
        "import pandas as pd\n",
        "import numpy as np\n",
        "import matplotlib.pyplot as plt\n",
        "\n",
        "from sklearn.datasets import fetch_california_housing\n",
        "from sklearn.model_selection import train_test_split\n",
        "from sklearn.preprocessing import StandardScaler, LabelEncoder\n",
        "from category_encoders.one_hot import OneHotEncoder, OrdinalEncoder\n",
        "from tensorflow.keras.models import Sequential\n",
        "from tensorflow.keras.layers import Dense, Dropout\n",
        "from keras.regularizers import l1, l2, l1_l2\n",
        "from keras.callbacks import EarlyStopping"
      ]
    },
    {
      "cell_type": "code",
      "execution_count": 19,
      "metadata": {
        "id": "zKK1C2doAA_2"
      },
      "outputs": [],
      "source": [
        "# Carregando o arquivo CSV.\n",
        "\n",
        "url = \"http://data.insideairbnb.com/united-states/ny/new-york-city/2024-02-06/data/listings.csv.gz\"\n",
        "\n",
        "dataset = pd.read_csv(url)"
      ]
    },
    {
      "cell_type": "code",
      "execution_count": 20,
      "metadata": {
        "id": "E1qwy-wFFc_q"
      },
      "outputs": [],
      "source": [
        "# selecionando um subconjunto específico de colunas.\n",
        "\n",
        "dataset = dataset[[\"neighbourhood_cleansed\", \"property_type\", \"room_type\", \"accommodates\", \"bathrooms\", \"bedrooms\", \"beds\", \"price\"]]"
      ]
    },
    {
      "cell_type": "code",
      "execution_count": 21,
      "metadata": {
        "id": "mGIMJ19ZU1O9",
        "colab": {
          "base_uri": "https://localhost:8080/"
        },
        "outputId": "99067936-d945-4290-fce6-782d3c7d468e"
      },
      "outputs": [
        {
          "output_type": "stream",
          "name": "stdout",
          "text": [
            "<class 'pandas.core.frame.DataFrame'>\n",
            "RangeIndex: 39202 entries, 0 to 39201\n",
            "Data columns (total 8 columns):\n",
            " #   Column                  Non-Null Count  Dtype  \n",
            "---  ------                  --------------  -----  \n",
            " 0   neighbourhood_cleansed  39202 non-null  object \n",
            " 1   property_type           39202 non-null  object \n",
            " 2   room_type               39202 non-null  object \n",
            " 3   accommodates            39202 non-null  int64  \n",
            " 4   bathrooms               24335 non-null  float64\n",
            " 5   bedrooms                33011 non-null  float64\n",
            " 6   beds                    24222 non-null  float64\n",
            " 7   price                   24267 non-null  object \n",
            "dtypes: float64(3), int64(1), object(4)\n",
            "memory usage: 2.4+ MB\n"
          ]
        }
      ],
      "source": [
        "# fornece informações detalhadas sobre o DataFrame.\n",
        "\n",
        "dataset.info(verbose=True)"
      ]
    },
    {
      "cell_type": "code",
      "execution_count": null,
      "metadata": {
        "id": "_F8ElsUhUhYN",
        "colab": {
          "base_uri": "https://localhost:8080/",
          "height": 175
        },
        "outputId": "e48c9220-f19f-4bee-e8e1-692446f2f192"
      },
      "outputs": [
        {
          "output_type": "execute_result",
          "data": {
            "text/plain": [
              "       neighbourhood_cleansed       property_type        room_type    price\n",
              "count                   39202               39202            39202    24267\n",
              "unique                    224                  80                4      914\n",
              "top        Bedford-Stuyvesant  Entire rental unit  Entire home/apt  $100.00\n",
              "freq                     2760               16036            20853      653"
            ],
            "text/html": [
              "\n",
              "  <div id=\"df-94d46ea6-50bc-467d-8050-8b1aeeb78958\" class=\"colab-df-container\">\n",
              "    <div>\n",
              "<style scoped>\n",
              "    .dataframe tbody tr th:only-of-type {\n",
              "        vertical-align: middle;\n",
              "    }\n",
              "\n",
              "    .dataframe tbody tr th {\n",
              "        vertical-align: top;\n",
              "    }\n",
              "\n",
              "    .dataframe thead th {\n",
              "        text-align: right;\n",
              "    }\n",
              "</style>\n",
              "<table border=\"1\" class=\"dataframe\">\n",
              "  <thead>\n",
              "    <tr style=\"text-align: right;\">\n",
              "      <th></th>\n",
              "      <th>neighbourhood_cleansed</th>\n",
              "      <th>property_type</th>\n",
              "      <th>room_type</th>\n",
              "      <th>price</th>\n",
              "    </tr>\n",
              "  </thead>\n",
              "  <tbody>\n",
              "    <tr>\n",
              "      <th>count</th>\n",
              "      <td>39202</td>\n",
              "      <td>39202</td>\n",
              "      <td>39202</td>\n",
              "      <td>24267</td>\n",
              "    </tr>\n",
              "    <tr>\n",
              "      <th>unique</th>\n",
              "      <td>224</td>\n",
              "      <td>80</td>\n",
              "      <td>4</td>\n",
              "      <td>914</td>\n",
              "    </tr>\n",
              "    <tr>\n",
              "      <th>top</th>\n",
              "      <td>Bedford-Stuyvesant</td>\n",
              "      <td>Entire rental unit</td>\n",
              "      <td>Entire home/apt</td>\n",
              "      <td>$100.00</td>\n",
              "    </tr>\n",
              "    <tr>\n",
              "      <th>freq</th>\n",
              "      <td>2760</td>\n",
              "      <td>16036</td>\n",
              "      <td>20853</td>\n",
              "      <td>653</td>\n",
              "    </tr>\n",
              "  </tbody>\n",
              "</table>\n",
              "</div>\n",
              "    <div class=\"colab-df-buttons\">\n",
              "\n",
              "  <div class=\"colab-df-container\">\n",
              "    <button class=\"colab-df-convert\" onclick=\"convertToInteractive('df-94d46ea6-50bc-467d-8050-8b1aeeb78958')\"\n",
              "            title=\"Convert this dataframe to an interactive table.\"\n",
              "            style=\"display:none;\">\n",
              "\n",
              "  <svg xmlns=\"http://www.w3.org/2000/svg\" height=\"24px\" viewBox=\"0 -960 960 960\">\n",
              "    <path d=\"M120-120v-720h720v720H120Zm60-500h600v-160H180v160Zm220 220h160v-160H400v160Zm0 220h160v-160H400v160ZM180-400h160v-160H180v160Zm440 0h160v-160H620v160ZM180-180h160v-160H180v160Zm440 0h160v-160H620v160Z\"/>\n",
              "  </svg>\n",
              "    </button>\n",
              "\n",
              "  <style>\n",
              "    .colab-df-container {\n",
              "      display:flex;\n",
              "      gap: 12px;\n",
              "    }\n",
              "\n",
              "    .colab-df-convert {\n",
              "      background-color: #E8F0FE;\n",
              "      border: none;\n",
              "      border-radius: 50%;\n",
              "      cursor: pointer;\n",
              "      display: none;\n",
              "      fill: #1967D2;\n",
              "      height: 32px;\n",
              "      padding: 0 0 0 0;\n",
              "      width: 32px;\n",
              "    }\n",
              "\n",
              "    .colab-df-convert:hover {\n",
              "      background-color: #E2EBFA;\n",
              "      box-shadow: 0px 1px 2px rgba(60, 64, 67, 0.3), 0px 1px 3px 1px rgba(60, 64, 67, 0.15);\n",
              "      fill: #174EA6;\n",
              "    }\n",
              "\n",
              "    .colab-df-buttons div {\n",
              "      margin-bottom: 4px;\n",
              "    }\n",
              "\n",
              "    [theme=dark] .colab-df-convert {\n",
              "      background-color: #3B4455;\n",
              "      fill: #D2E3FC;\n",
              "    }\n",
              "\n",
              "    [theme=dark] .colab-df-convert:hover {\n",
              "      background-color: #434B5C;\n",
              "      box-shadow: 0px 1px 3px 1px rgba(0, 0, 0, 0.15);\n",
              "      filter: drop-shadow(0px 1px 2px rgba(0, 0, 0, 0.3));\n",
              "      fill: #FFFFFF;\n",
              "    }\n",
              "  </style>\n",
              "\n",
              "    <script>\n",
              "      const buttonEl =\n",
              "        document.querySelector('#df-94d46ea6-50bc-467d-8050-8b1aeeb78958 button.colab-df-convert');\n",
              "      buttonEl.style.display =\n",
              "        google.colab.kernel.accessAllowed ? 'block' : 'none';\n",
              "\n",
              "      async function convertToInteractive(key) {\n",
              "        const element = document.querySelector('#df-94d46ea6-50bc-467d-8050-8b1aeeb78958');\n",
              "        const dataTable =\n",
              "          await google.colab.kernel.invokeFunction('convertToInteractive',\n",
              "                                                    [key], {});\n",
              "        if (!dataTable) return;\n",
              "\n",
              "        const docLinkHtml = 'Like what you see? Visit the ' +\n",
              "          '<a target=\"_blank\" href=https://colab.research.google.com/notebooks/data_table.ipynb>data table notebook</a>'\n",
              "          + ' to learn more about interactive tables.';\n",
              "        element.innerHTML = '';\n",
              "        dataTable['output_type'] = 'display_data';\n",
              "        await google.colab.output.renderOutput(dataTable, element);\n",
              "        const docLink = document.createElement('div');\n",
              "        docLink.innerHTML = docLinkHtml;\n",
              "        element.appendChild(docLink);\n",
              "      }\n",
              "    </script>\n",
              "  </div>\n",
              "\n",
              "\n",
              "<div id=\"df-53dd7a32-3dea-432a-b33a-db8194f375a8\">\n",
              "  <button class=\"colab-df-quickchart\" onclick=\"quickchart('df-53dd7a32-3dea-432a-b33a-db8194f375a8')\"\n",
              "            title=\"Suggest charts\"\n",
              "            style=\"display:none;\">\n",
              "\n",
              "<svg xmlns=\"http://www.w3.org/2000/svg\" height=\"24px\"viewBox=\"0 0 24 24\"\n",
              "     width=\"24px\">\n",
              "    <g>\n",
              "        <path d=\"M19 3H5c-1.1 0-2 .9-2 2v14c0 1.1.9 2 2 2h14c1.1 0 2-.9 2-2V5c0-1.1-.9-2-2-2zM9 17H7v-7h2v7zm4 0h-2V7h2v10zm4 0h-2v-4h2v4z\"/>\n",
              "    </g>\n",
              "</svg>\n",
              "  </button>\n",
              "\n",
              "<style>\n",
              "  .colab-df-quickchart {\n",
              "      --bg-color: #E8F0FE;\n",
              "      --fill-color: #1967D2;\n",
              "      --hover-bg-color: #E2EBFA;\n",
              "      --hover-fill-color: #174EA6;\n",
              "      --disabled-fill-color: #AAA;\n",
              "      --disabled-bg-color: #DDD;\n",
              "  }\n",
              "\n",
              "  [theme=dark] .colab-df-quickchart {\n",
              "      --bg-color: #3B4455;\n",
              "      --fill-color: #D2E3FC;\n",
              "      --hover-bg-color: #434B5C;\n",
              "      --hover-fill-color: #FFFFFF;\n",
              "      --disabled-bg-color: #3B4455;\n",
              "      --disabled-fill-color: #666;\n",
              "  }\n",
              "\n",
              "  .colab-df-quickchart {\n",
              "    background-color: var(--bg-color);\n",
              "    border: none;\n",
              "    border-radius: 50%;\n",
              "    cursor: pointer;\n",
              "    display: none;\n",
              "    fill: var(--fill-color);\n",
              "    height: 32px;\n",
              "    padding: 0;\n",
              "    width: 32px;\n",
              "  }\n",
              "\n",
              "  .colab-df-quickchart:hover {\n",
              "    background-color: var(--hover-bg-color);\n",
              "    box-shadow: 0 1px 2px rgba(60, 64, 67, 0.3), 0 1px 3px 1px rgba(60, 64, 67, 0.15);\n",
              "    fill: var(--button-hover-fill-color);\n",
              "  }\n",
              "\n",
              "  .colab-df-quickchart-complete:disabled,\n",
              "  .colab-df-quickchart-complete:disabled:hover {\n",
              "    background-color: var(--disabled-bg-color);\n",
              "    fill: var(--disabled-fill-color);\n",
              "    box-shadow: none;\n",
              "  }\n",
              "\n",
              "  .colab-df-spinner {\n",
              "    border: 2px solid var(--fill-color);\n",
              "    border-color: transparent;\n",
              "    border-bottom-color: var(--fill-color);\n",
              "    animation:\n",
              "      spin 1s steps(1) infinite;\n",
              "  }\n",
              "\n",
              "  @keyframes spin {\n",
              "    0% {\n",
              "      border-color: transparent;\n",
              "      border-bottom-color: var(--fill-color);\n",
              "      border-left-color: var(--fill-color);\n",
              "    }\n",
              "    20% {\n",
              "      border-color: transparent;\n",
              "      border-left-color: var(--fill-color);\n",
              "      border-top-color: var(--fill-color);\n",
              "    }\n",
              "    30% {\n",
              "      border-color: transparent;\n",
              "      border-left-color: var(--fill-color);\n",
              "      border-top-color: var(--fill-color);\n",
              "      border-right-color: var(--fill-color);\n",
              "    }\n",
              "    40% {\n",
              "      border-color: transparent;\n",
              "      border-right-color: var(--fill-color);\n",
              "      border-top-color: var(--fill-color);\n",
              "    }\n",
              "    60% {\n",
              "      border-color: transparent;\n",
              "      border-right-color: var(--fill-color);\n",
              "    }\n",
              "    80% {\n",
              "      border-color: transparent;\n",
              "      border-right-color: var(--fill-color);\n",
              "      border-bottom-color: var(--fill-color);\n",
              "    }\n",
              "    90% {\n",
              "      border-color: transparent;\n",
              "      border-bottom-color: var(--fill-color);\n",
              "    }\n",
              "  }\n",
              "</style>\n",
              "\n",
              "  <script>\n",
              "    async function quickchart(key) {\n",
              "      const quickchartButtonEl =\n",
              "        document.querySelector('#' + key + ' button');\n",
              "      quickchartButtonEl.disabled = true;  // To prevent multiple clicks.\n",
              "      quickchartButtonEl.classList.add('colab-df-spinner');\n",
              "      try {\n",
              "        const charts = await google.colab.kernel.invokeFunction(\n",
              "            'suggestCharts', [key], {});\n",
              "      } catch (error) {\n",
              "        console.error('Error during call to suggestCharts:', error);\n",
              "      }\n",
              "      quickchartButtonEl.classList.remove('colab-df-spinner');\n",
              "      quickchartButtonEl.classList.add('colab-df-quickchart-complete');\n",
              "    }\n",
              "    (() => {\n",
              "      let quickchartButtonEl =\n",
              "        document.querySelector('#df-53dd7a32-3dea-432a-b33a-db8194f375a8 button');\n",
              "      quickchartButtonEl.style.display =\n",
              "        google.colab.kernel.accessAllowed ? 'block' : 'none';\n",
              "    })();\n",
              "  </script>\n",
              "</div>\n",
              "    </div>\n",
              "  </div>\n"
            ],
            "application/vnd.google.colaboratory.intrinsic+json": {
              "type": "dataframe",
              "summary": "{\n  \"name\": \"dataset\",\n  \"rows\": 4,\n  \"fields\": [\n    {\n      \"column\": \"neighbourhood_cleansed\",\n      \"properties\": {\n        \"dtype\": \"string\",\n        \"num_unique_values\": 4,\n        \"samples\": [\n          224,\n          \"2760\",\n          \"39202\"\n        ],\n        \"semantic_type\": \"\",\n        \"description\": \"\"\n      }\n    },\n    {\n      \"column\": \"property_type\",\n      \"properties\": {\n        \"dtype\": \"string\",\n        \"num_unique_values\": 4,\n        \"samples\": [\n          80,\n          \"16036\",\n          \"39202\"\n        ],\n        \"semantic_type\": \"\",\n        \"description\": \"\"\n      }\n    },\n    {\n      \"column\": \"room_type\",\n      \"properties\": {\n        \"dtype\": \"string\",\n        \"num_unique_values\": 4,\n        \"samples\": [\n          4,\n          \"20853\",\n          \"39202\"\n        ],\n        \"semantic_type\": \"\",\n        \"description\": \"\"\n      }\n    },\n    {\n      \"column\": \"price\",\n      \"properties\": {\n        \"dtype\": \"string\",\n        \"num_unique_values\": 4,\n        \"samples\": [\n          914,\n          \"653\",\n          \"24267\"\n        ],\n        \"semantic_type\": \"\",\n        \"description\": \"\"\n      }\n    }\n  ]\n}"
            }
          },
          "metadata": {},
          "execution_count": 23
        }
      ],
      "source": [
        "# Verificando tipos 'objetos'.\n",
        "\n",
        "dataset.select_dtypes(include='object').describe()"
      ]
    },
    {
      "cell_type": "code",
      "source": [
        "# Verificando tipos 'float'.\n",
        "\n",
        "dataset.select_dtypes(include='float').describe()"
      ],
      "metadata": {
        "id": "LpWc6NKyeRt-"
      },
      "execution_count": null,
      "outputs": []
    },
    {
      "cell_type": "code",
      "execution_count": null,
      "metadata": {
        "id": "OOiAmplteR_0"
      },
      "outputs": [],
      "source": [
        "# Verificando tipos 'int'.\n",
        "\n",
        "dataset.select_dtypes(include='int').describe()"
      ]
    },
    {
      "cell_type": "code",
      "source": [
        "# removendo valores nulos.\n",
        "dataset = dataset.dropna()\n",
        "\n",
        "# Convertendo 'price' para float e removendo o $.\n",
        "dataset['price'] = dataset['price'].replace({'\\$': '', ',': ''}, regex=True).astype(float)\n",
        "\n",
        "# Usado para codificar variáveis categóricas em valores numéricos.\n",
        "le = LabelEncoder()\n",
        "\n",
        "# Selecionando as colunas categoricas.\n",
        "dataset_categoricas = dataset[['neighbourhood_cleansed', 'property_type', 'room_type']]\n",
        "for col in dataset_categoricas.columns:\n",
        "    # Atribuindo os valores usando o .loc para modificar o DataFrame original.\n",
        "    dataset_categoricas.loc[:, col] = le.fit_transform(dataset_categoricas[col])\n",
        "\n",
        "scaler = StandardScaler()\n",
        "\n",
        "# Selecionando as colunas numéricas.\n",
        "dataset_numericas = dataset[['accommodates', 'bathrooms', 'bedrooms', 'beds', 'price']]\n",
        "\n",
        "dataset = pd.concat([dataset_numericas, dataset_categoricas], axis=1)\n",
        "\n",
        "# Ajustando o scaler às colunas numéricas.\n",
        "dataset = scaler.fit_transform(dataset)"
      ],
      "metadata": {
        "id": "XfCbx3FZtKN6",
        "colab": {
          "base_uri": "https://localhost:8080/"
        },
        "outputId": "a0470d18-5797-44ad-d373-88e7b64e1705"
      },
      "execution_count": 22,
      "outputs": [
        {
          "output_type": "stream",
          "name": "stderr",
          "text": [
            "<ipython-input-22-dd445bfbba3f>:5: SettingWithCopyWarning: \n",
            "A value is trying to be set on a copy of a slice from a DataFrame.\n",
            "Try using .loc[row_indexer,col_indexer] = value instead\n",
            "\n",
            "See the caveats in the documentation: https://pandas.pydata.org/pandas-docs/stable/user_guide/indexing.html#returning-a-view-versus-a-copy\n",
            "  dataset['price'] = dataset['price'].replace({'\\$': '', ',': ''}, regex=True).astype(float)\n",
            "<ipython-input-22-dd445bfbba3f>:14: SettingWithCopyWarning: \n",
            "A value is trying to be set on a copy of a slice from a DataFrame.\n",
            "Try using .loc[row_indexer,col_indexer] = value instead\n",
            "\n",
            "See the caveats in the documentation: https://pandas.pydata.org/pandas-docs/stable/user_guide/indexing.html#returning-a-view-versus-a-copy\n",
            "  dataset_categoricas.loc[:, col] = le.fit_transform(dataset_categoricas[col])\n",
            "<ipython-input-22-dd445bfbba3f>:14: DeprecationWarning: In a future version, `df.iloc[:, i] = newvals` will attempt to set the values inplace instead of always setting a new array. To retain the old behavior, use either `df[df.columns[i]] = newvals` or, if columns are non-unique, `df.isetitem(i, newvals)`\n",
            "  dataset_categoricas.loc[:, col] = le.fit_transform(dataset_categoricas[col])\n",
            "<ipython-input-22-dd445bfbba3f>:14: SettingWithCopyWarning: \n",
            "A value is trying to be set on a copy of a slice from a DataFrame.\n",
            "Try using .loc[row_indexer,col_indexer] = value instead\n",
            "\n",
            "See the caveats in the documentation: https://pandas.pydata.org/pandas-docs/stable/user_guide/indexing.html#returning-a-view-versus-a-copy\n",
            "  dataset_categoricas.loc[:, col] = le.fit_transform(dataset_categoricas[col])\n",
            "<ipython-input-22-dd445bfbba3f>:14: DeprecationWarning: In a future version, `df.iloc[:, i] = newvals` will attempt to set the values inplace instead of always setting a new array. To retain the old behavior, use either `df[df.columns[i]] = newvals` or, if columns are non-unique, `df.isetitem(i, newvals)`\n",
            "  dataset_categoricas.loc[:, col] = le.fit_transform(dataset_categoricas[col])\n",
            "<ipython-input-22-dd445bfbba3f>:14: SettingWithCopyWarning: \n",
            "A value is trying to be set on a copy of a slice from a DataFrame.\n",
            "Try using .loc[row_indexer,col_indexer] = value instead\n",
            "\n",
            "See the caveats in the documentation: https://pandas.pydata.org/pandas-docs/stable/user_guide/indexing.html#returning-a-view-versus-a-copy\n",
            "  dataset_categoricas.loc[:, col] = le.fit_transform(dataset_categoricas[col])\n",
            "<ipython-input-22-dd445bfbba3f>:14: DeprecationWarning: In a future version, `df.iloc[:, i] = newvals` will attempt to set the values inplace instead of always setting a new array. To retain the old behavior, use either `df[df.columns[i]] = newvals` or, if columns are non-unique, `df.isetitem(i, newvals)`\n",
            "  dataset_categoricas.loc[:, col] = le.fit_transform(dataset_categoricas[col])\n"
          ]
        }
      ]
    },
    {
      "cell_type": "code",
      "source": [
        "print(dataset)"
      ],
      "metadata": {
        "colab": {
          "base_uri": "https://localhost:8080/"
        },
        "id": "gK7YDIL1HnaR",
        "outputId": "098aa34e-1cd8-4d15-9a2a-2760f791dddd"
      },
      "execution_count": 23,
      "outputs": [
        {
          "output_type": "stream",
          "name": "stdout",
          "text": [
            "[[-0.9290842  -0.36523004 -0.38978879 ...  1.02613071  0.59606344\n",
            "   1.11286624]\n",
            " [-0.46250922 -0.36523004 -0.38978879 ...  0.07291175  1.04744946\n",
            "   1.11286624]\n",
            " [-0.9290842  -1.26427792 -0.38978879 ... -0.10865376  1.04744946\n",
            "   1.11286624]\n",
            " ...\n",
            " [-0.46250922  2.33191361 -0.38978879 ... -1.21317732  0.14467741\n",
            "   1.11286624]\n",
            " [ 0.47064074 -0.36523004  0.6425796  ... -0.30534974 -1.35994268\n",
            "  -0.86924554]\n",
            " [-0.46250922 -0.36523004 -1.42215718 ...  1.41952266 -0.75809464\n",
            "  -0.86924554]]\n"
          ]
        }
      ]
    },
    {
      "cell_type": "code",
      "source": [
        "# Convertendo o array NumPy para DataFrame com os nomes das colunas.\n",
        "col = ['neighbourhood_cleansed', 'property_type', 'room_type', 'accommodates', 'bathrooms', 'bedrooms', 'beds', 'price']\n",
        "\n",
        "dataset = pd.DataFrame(dataset, columns=col)"
      ],
      "metadata": {
        "id": "C3OVCHztvCfw"
      },
      "execution_count": 24,
      "outputs": []
    },
    {
      "cell_type": "code",
      "source": [
        "print(dataset)"
      ],
      "metadata": {
        "id": "NqitQsRM9gTL",
        "colab": {
          "base_uri": "https://localhost:8080/"
        },
        "outputId": "872d8f48-bd42-4e8d-e61a-64e63f2a8966"
      },
      "execution_count": 25,
      "outputs": [
        {
          "output_type": "stream",
          "name": "stdout",
          "text": [
            "       neighbourhood_cleansed  property_type  room_type  accommodates  \\\n",
            "0                   -0.929084      -0.365230  -0.389789     -0.544092   \n",
            "1                   -0.462509      -0.365230  -0.389789     -0.544092   \n",
            "2                   -0.929084      -1.264278  -0.389789     -1.340744   \n",
            "3                   -0.929084      -0.365230  -0.389789     -0.544092   \n",
            "4                   -0.929084       1.432866   2.707316     -0.544092   \n",
            "...                       ...            ...        ...           ...   \n",
            "24094                2.336941       1.432866   2.707316      1.845861   \n",
            "24095               -0.462509       1.432866   1.674948     -0.544092   \n",
            "24096               -0.462509       2.331914  -0.389789      1.049210   \n",
            "24097                0.470641      -0.365230   0.642580      0.252559   \n",
            "24098               -0.462509      -0.365230  -1.422157     -0.544092   \n",
            "\n",
            "       bathrooms  bedrooms      beds     price  \n",
            "0      -0.175553  1.026131  0.596063  1.112866  \n",
            "1      -0.175553  0.072912  1.047449  1.112866  \n",
            "2      -0.120996 -0.108654  1.047449  1.112866  \n",
            "3      -0.155714 -1.440134  0.596063  1.112866  \n",
            "4      -0.157698 -0.502046  1.047449  1.112866  \n",
            "...          ...       ...       ...       ...  \n",
            "24094  -0.041640 -1.440134 -0.758095 -0.869246  \n",
            "24095  -0.103141 -1.440134  0.144677  1.112866  \n",
            "24096  -0.071399 -1.213177  0.144677  1.112866  \n",
            "24097   0.022836 -0.305350 -1.359943 -0.869246  \n",
            "24098  -0.031721  1.419523 -0.758095 -0.869246  \n",
            "\n",
            "[24099 rows x 8 columns]\n"
          ]
        }
      ]
    },
    {
      "cell_type": "code",
      "source": [
        "X = dataset.drop(columns=['price'])\n",
        "y = dataset['price']\n",
        "\n",
        "X_train_full, X_test, y_train_full, y_test = train_test_split(X, y, test_size=0.2, random_state=16)\n",
        "\n",
        "X_train, X_valid, y_train, y_valid = train_test_split(X_train_full, y_train_full)"
      ],
      "metadata": {
        "id": "bSvpFMzVVkv0"
      },
      "execution_count": 26,
      "outputs": []
    },
    {
      "cell_type": "code",
      "source": [
        "# Criando a regularização L1\n",
        "regularizer_l1 = l1(l=0.01)\n",
        "\n",
        "# Criando a regularização L2\n",
        "regularizer_l2 = l2(l=0.012)\n",
        "\n",
        "# Combinando as duas\n",
        "regularizer_combined = l1_l2(l1=0.01, l2=0.01)"
      ],
      "metadata": {
        "id": "eIEpnmPqALv_"
      },
      "execution_count": 27,
      "outputs": []
    },
    {
      "cell_type": "code",
      "execution_count": 28,
      "metadata": {
        "id": "S1XRDRPddcg2"
      },
      "outputs": [],
      "source": [
        "##Criando arquitetura do modelo\n",
        "\n",
        "model = Sequential()\n",
        "model.add(Dense(32, activation='relu', kernel_regularizer=regularizer_l2, input_shape=X_train.shape[1:]))\n",
        "model.add(Dropout(0.2))\n",
        "model.add(Dense(32, activation='relu'))\n",
        "model.add(Dense(1))"
      ]
    },
    {
      "cell_type": "code",
      "source": [
        "model.summary()"
      ],
      "metadata": {
        "id": "7owxTMAAxlJP",
        "colab": {
          "base_uri": "https://localhost:8080/"
        },
        "outputId": "b100d334-cf81-4d49-fb20-7f60f612c1a2"
      },
      "execution_count": 29,
      "outputs": [
        {
          "output_type": "stream",
          "name": "stdout",
          "text": [
            "Model: \"sequential_1\"\n",
            "_________________________________________________________________\n",
            " Layer (type)                Output Shape              Param #   \n",
            "=================================================================\n",
            " dense_3 (Dense)             (None, 32)                256       \n",
            "                                                                 \n",
            " dropout_1 (Dropout)         (None, 32)                0         \n",
            "                                                                 \n",
            " dense_4 (Dense)             (None, 32)                1056      \n",
            "                                                                 \n",
            " dense_5 (Dense)             (None, 1)                 33        \n",
            "                                                                 \n",
            "=================================================================\n",
            "Total params: 1,345\n",
            "Trainable params: 1,345\n",
            "Non-trainable params: 0\n",
            "_________________________________________________________________\n"
          ]
        }
      ]
    },
    {
      "cell_type": "code",
      "execution_count": 30,
      "metadata": {
        "id": "25yAW-qfdgUY"
      },
      "outputs": [],
      "source": [
        "##compilando modelo\n",
        "\n",
        "model.compile(loss='mean_squared_error', optimizer='sgd', metrics=['mean_absolute_error'])"
      ]
    },
    {
      "cell_type": "code",
      "execution_count": 31,
      "metadata": {
        "id": "4ArzyW0tdhxy",
        "colab": {
          "base_uri": "https://localhost:8080/"
        },
        "outputId": "482d8ff9-7465-482a-929c-75488a76283e"
      },
      "outputs": [
        {
          "output_type": "stream",
          "name": "stdout",
          "text": [
            "Epoch 1/30\n",
            "452/452 [==============================] - 2s 3ms/step - loss: 0.3854 - mean_absolute_error: 0.3870 - val_loss: 0.2097 - val_mean_absolute_error: 0.2077\n",
            "Epoch 2/30\n",
            "452/452 [==============================] - 1s 3ms/step - loss: 0.3582 - mean_absolute_error: 0.2967 - val_loss: 0.1802 - val_mean_absolute_error: 0.1822\n",
            "Epoch 3/30\n",
            "452/452 [==============================] - 1s 3ms/step - loss: 0.2054 - mean_absolute_error: 0.2398 - val_loss: 0.1478 - val_mean_absolute_error: 0.1618\n",
            "Epoch 4/30\n",
            "452/452 [==============================] - 1s 3ms/step - loss: 0.1572 - mean_absolute_error: 0.2063 - val_loss: 0.1252 - val_mean_absolute_error: 0.1431\n",
            "Epoch 5/30\n",
            "452/452 [==============================] - 2s 3ms/step - loss: 0.1300 - mean_absolute_error: 0.1839 - val_loss: 0.1081 - val_mean_absolute_error: 0.1336\n",
            "Epoch 6/30\n",
            "452/452 [==============================] - 2s 4ms/step - loss: 0.1112 - mean_absolute_error: 0.1691 - val_loss: 0.0949 - val_mean_absolute_error: 0.1247\n",
            "Epoch 7/30\n",
            "452/452 [==============================] - 1s 3ms/step - loss: 0.0965 - mean_absolute_error: 0.1550 - val_loss: 0.0835 - val_mean_absolute_error: 0.1122\n",
            "Epoch 8/30\n",
            "452/452 [==============================] - 1s 2ms/step - loss: 0.0839 - mean_absolute_error: 0.1419 - val_loss: 0.0759 - val_mean_absolute_error: 0.1062\n",
            "Epoch 9/30\n",
            "452/452 [==============================] - 1s 3ms/step - loss: 0.0753 - mean_absolute_error: 0.1321 - val_loss: 0.0695 - val_mean_absolute_error: 0.1007\n",
            "Epoch 10/30\n",
            "452/452 [==============================] - 1s 2ms/step - loss: 0.0677 - mean_absolute_error: 0.1221 - val_loss: 0.0649 - val_mean_absolute_error: 0.0968\n",
            "Epoch 11/30\n",
            "452/452 [==============================] - 1s 2ms/step - loss: 0.0622 - mean_absolute_error: 0.1135 - val_loss: 0.0612 - val_mean_absolute_error: 0.0900\n",
            "Epoch 12/30\n",
            "452/452 [==============================] - 1s 2ms/step - loss: 0.0579 - mean_absolute_error: 0.1082 - val_loss: 0.0582 - val_mean_absolute_error: 0.0827\n",
            "Epoch 13/30\n",
            "452/452 [==============================] - 1s 2ms/step - loss: 0.0548 - mean_absolute_error: 0.1019 - val_loss: 0.0560 - val_mean_absolute_error: 0.0843\n",
            "Epoch 14/30\n",
            "452/452 [==============================] - 1s 2ms/step - loss: 0.0518 - mean_absolute_error: 0.0972 - val_loss: 0.0547 - val_mean_absolute_error: 0.0824\n",
            "Epoch 15/30\n",
            "452/452 [==============================] - 1s 3ms/step - loss: 0.0497 - mean_absolute_error: 0.0929 - val_loss: 0.0524 - val_mean_absolute_error: 0.0754\n",
            "Epoch 16/30\n",
            "452/452 [==============================] - 2s 4ms/step - loss: 0.0478 - mean_absolute_error: 0.0894 - val_loss: 0.0514 - val_mean_absolute_error: 0.0734\n",
            "Epoch 17/30\n",
            "452/452 [==============================] - 1s 3ms/step - loss: 0.0461 - mean_absolute_error: 0.0860 - val_loss: 0.0508 - val_mean_absolute_error: 0.0738\n",
            "Epoch 18/30\n",
            "452/452 [==============================] - 1s 3ms/step - loss: 0.0445 - mean_absolute_error: 0.0829 - val_loss: 0.0504 - val_mean_absolute_error: 0.0737\n",
            "Epoch 19/30\n",
            "452/452 [==============================] - 1s 2ms/step - loss: 0.0442 - mean_absolute_error: 0.0816 - val_loss: 0.0486 - val_mean_absolute_error: 0.0656\n",
            "Epoch 20/30\n",
            "452/452 [==============================] - 1s 2ms/step - loss: 0.0431 - mean_absolute_error: 0.0785 - val_loss: 0.0483 - val_mean_absolute_error: 0.0684\n",
            "Epoch 21/30\n",
            "452/452 [==============================] - 1s 3ms/step - loss: 0.0419 - mean_absolute_error: 0.0768 - val_loss: 0.0480 - val_mean_absolute_error: 0.0644\n",
            "Epoch 22/30\n",
            "452/452 [==============================] - 1s 2ms/step - loss: 0.0413 - mean_absolute_error: 0.0752 - val_loss: 0.0468 - val_mean_absolute_error: 0.0596\n",
            "Epoch 23/30\n",
            "452/452 [==============================] - 1s 3ms/step - loss: 0.0406 - mean_absolute_error: 0.0737 - val_loss: 0.0474 - val_mean_absolute_error: 0.0663\n",
            "Epoch 24/30\n",
            "452/452 [==============================] - 1s 3ms/step - loss: 0.0398 - mean_absolute_error: 0.0713 - val_loss: 0.0457 - val_mean_absolute_error: 0.0595\n",
            "Epoch 25/30\n",
            "452/452 [==============================] - 2s 5ms/step - loss: 0.0400 - mean_absolute_error: 0.0710 - val_loss: 0.0457 - val_mean_absolute_error: 0.0600\n",
            "Epoch 26/30\n",
            "452/452 [==============================] - 2s 4ms/step - loss: 0.0393 - mean_absolute_error: 0.0701 - val_loss: 0.0456 - val_mean_absolute_error: 0.0581\n",
            "Epoch 27/30\n",
            "452/452 [==============================] - 1s 3ms/step - loss: 0.0382 - mean_absolute_error: 0.0680 - val_loss: 0.0446 - val_mean_absolute_error: 0.0552\n",
            "Epoch 28/30\n",
            "452/452 [==============================] - 1s 3ms/step - loss: 0.0383 - mean_absolute_error: 0.0671 - val_loss: 0.0444 - val_mean_absolute_error: 0.0558\n",
            "Epoch 29/30\n",
            "452/452 [==============================] - 1s 2ms/step - loss: 0.0377 - mean_absolute_error: 0.0667 - val_loss: 0.0438 - val_mean_absolute_error: 0.0525\n",
            "Epoch 30/30\n",
            "452/452 [==============================] - 1s 2ms/step - loss: 0.0371 - mean_absolute_error: 0.0653 - val_loss: 0.0442 - val_mean_absolute_error: 0.0589\n"
          ]
        }
      ],
      "source": [
        "##Treinando modelo (completar)\n",
        "\n",
        "history = model.fit(X_train, y_train,\n",
        "                    epochs=30,\n",
        "                    verbose=1,\n",
        "                    validation_data=(X_valid, y_valid))"
      ]
    },
    {
      "cell_type": "markdown",
      "metadata": {
        "id": "9WQvWZOoITNg"
      },
      "source": [
        "**Avaliando Resultados**"
      ]
    },
    {
      "cell_type": "code",
      "execution_count": 32,
      "metadata": {
        "colab": {
          "base_uri": "https://localhost:8080/"
        },
        "id": "nqNyRJPlQHnc",
        "outputId": "fb30202e-4aaa-4465-a2bb-14cd9ab5c4fc"
      },
      "outputs": [
        {
          "output_type": "stream",
          "name": "stdout",
          "text": [
            "1/1 [==============================] - 0s 74ms/step\n",
            "[[-0.8718958 ]\n",
            " [ 1.0875064 ]\n",
            " [-0.87006485]]\n"
          ]
        }
      ],
      "source": [
        "X_new = X_test[:3]\n",
        "\n",
        "y_pred = model.predict(X_new)\n",
        "\n",
        "print(y_pred)"
      ]
    },
    {
      "cell_type": "code",
      "source": [
        "num_epochs = 30\n",
        "\n",
        "plt.style.use(\"ggplot\")\n",
        "plt.figure()\n",
        "plt.plot(np.arange(0, num_epochs), history.history[\"loss\"], label=\"Training Loss\")\n",
        "plt.plot(np.arange(0, num_epochs), history.history[\"mean_absolute_error\"], label=\"Training Mean Absolute Error\")\n",
        "plt.plot(np.arange(0, num_epochs), history.history[\"val_loss\"], label=\"Validation Loss\")\n",
        "plt.plot(np.arange(0, num_epochs), history.history[\"val_mean_absolute_error\"], label=\"Validation Mean Absolute Error\")\n",
        "plt.title(\"Training and Validation Metrics\")\n",
        "plt.xlabel(\"Epoch #\")\n",
        "plt.ylabel(\"Metrics\")\n",
        "plt.legend()\n",
        "plt.show()\n"
      ],
      "metadata": {
        "colab": {
          "base_uri": "https://localhost:8080/",
          "height": 477
        },
        "id": "fXBAZfQJ-Bmh",
        "outputId": "51a03b35-0c39-4520-bab5-53fbd1570696"
      },
      "execution_count": 33,
      "outputs": [
        {
          "output_type": "display_data",
          "data": {
            "text/plain": [
              "<Figure size 640x480 with 1 Axes>"
            ],
            "image/png": "[encoded data removed]"
          },
          "metadata": {}
        }
      ]
    },
    {
      "cell_type": "code",
      "execution_count": 34,
      "metadata": {
        "colab": {
          "base_uri": "https://localhost:8080/"
        },
        "id": "psBtJ8OzCTgw",
        "outputId": "bd39300c-aef4-4ffc-ae54-390e1b41bb2a"
      },
      "outputs": [
        {
          "output_type": "stream",
          "name": "stdout",
          "text": [
            "151/151 [==============================] - 0s 2ms/step - loss: 0.0375 - mean_absolute_error: 0.0536\n"
          ]
        }
      ],
      "source": [
        "mse_test = model.evaluate(X_test,y_test)"
      ]
    },
    {
      "cell_type": "code",
      "source": [
        "# serialize model to JSON\n",
        "model_json = model.to_json()\n",
        "with open(\"model.json\", \"w\") as json_file:\n",
        "    json_file.write(model_json)\n",
        "\n",
        "# serialize weights to HDF5\n",
        "model.save_weights(\"model.h5\")\n",
        "print(\"Saved model to disk\")\n",
        "\n"
      ],
      "metadata": {
        "id": "Y3Jk9EtH-EV8",
        "colab": {
          "base_uri": "https://localhost:8080/"
        },
        "outputId": "1ea5841a-cdf5-44ab-c91a-97aa100156a3"
      },
      "execution_count": null,
      "outputs": [
        {
          "output_type": "stream",
          "name": "stdout",
          "text": [
            "Saved model to disk\n"
          ]
        }
      ]
    },
    {
      "cell_type": "code",
      "source": [
        "from keras.models import model_from_json\n",
        "\n",
        "# load json and create model\n",
        "json_file = open('model.json', 'r')\n",
        "loaded_model_json = json_file.read()\n",
        "json_file.close()\n",
        "loaded_model = model_from_json(loaded_model_json)\n",
        "\n",
        "# load weights into new model\n",
        "loaded_model.load_weights(\"model.h5\")\n",
        "print(\"Loaded model from disk\")"
      ],
      "metadata": {
        "colab": {
          "base_uri": "https://localhost:8080/"
        },
        "id": "IlG0rqoURKCq",
        "outputId": "9020b380-383a-49d2-c8fd-65badc969207"
      },
      "execution_count": null,
      "outputs": [
        {
          "output_type": "stream",
          "name": "stdout",
          "text": [
            "Loaded model from disk\n"
          ]
        }
      ]
    }
  ],
  "metadata": {
    "accelerator": "TPU",
    "colab": {
      "provenance": [],
      "include_colab_link": true
    },
    "kernelspec": {
      "display_name": "Python 3",
      "name": "python3"
    },
    "language_info": {
      "name": "python"
    }
  },
  "nbformat": 4,
  "nbformat_minor": 0
}