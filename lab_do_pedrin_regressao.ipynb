{
  "cells": [
    {
      "cell_type": "markdown",
      "metadata": {
        "id": "view-in-github",
        "colab_type": "text"
      },
      "source": [
        "<a href=\"https://colab.research.google.com/github/PedrinHm/Labs_Machine_Learning/blob/main/lab_do_pedrin_regressao.ipynb\" target=\"_parent\"><img src=\"https://colab.research.google.com/assets/colab-badge.svg\" alt=\"Open In Colab\"/></a>"
      ]
    },
    {
      "cell_type": "markdown",
      "metadata": {
        "id": "CI0vOHsY7Aio"
      },
      "source": [
        "\n",
        "## **Projeto Prático - Regressão Linear (AirBnb)**\n",
        "\n",
        "\n",
        "---\n",
        "\n",
        "\n",
        "<br>\n",
        "UNIRV - UNIVERSIDADE DE RIO VERDE<br>\n",
        "Faculdade de Engenharia de Software<br><br>\n",
        "\n",
        "\n",
        "**Aluno: Pedro Henrique Mendes**<br>\n",
        "pedro.h.mendes@academico.unirv.edu.br<br>\n",
        "**Prof. Me. Sandro Silva Moreira**<br>\n",
        "sandro.moreira@unirv.edu.br<br><br>\n",
        "\n",
        "\n",
        "---\n",
        "\n"
      ]
    },
    {
      "cell_type": "code",
      "execution_count": 218,
      "metadata": {
        "id": "cgGCs0yK68c4",
        "colab": {
          "base_uri": "https://localhost:8080/"
        },
        "outputId": "e34783bf-8b04-4b93-d372-95f44db82343"
      },
      "outputs": [
        {
          "output_type": "stream",
          "name": "stdout",
          "text": [
            "Colab only includes TensorFlow 2.x; %tensorflow_version has no effect.\n",
            "You are using TensorFlow version 2.15.0\n",
            "Enable a GPU before running this notebook.\n"
          ]
        }
      ],
      "source": [
        "%tensorflow_version 2.x\n",
        "import tensorflow as tf\n",
        "print(\"You are using TensorFlow version\", tf.__version__)\n",
        "if len(tf.config.list_physical_devices('GPU')) > 0:\n",
        "  print(\"You have a GPU enabled.\")\n",
        "else:\n",
        "  print(\"Enable a GPU before running this notebook.\")"
      ]
    },
    {
      "cell_type": "code",
      "source": [
        "pip install category_encoders"
      ],
      "metadata": {
        "id": "3wifjp5F0VBR"
      },
      "execution_count": null,
      "outputs": []
    },
    {
      "cell_type": "code",
      "execution_count": 220,
      "metadata": {
        "id": "o6H2MjZ4_F7q"
      },
      "outputs": [],
      "source": [
        "import keras\n",
        "from keras.models import Sequential\n",
        "from keras.layers import Dense, Dropout\n",
        "from keras.layers import Flatten\n",
        "\n",
        "import pandas as pd\n",
        "import numpy as np\n",
        "import matplotlib.pyplot as plt\n",
        "\n",
        "from sklearn.datasets import fetch_california_housing\n",
        "from sklearn.model_selection import train_test_split\n",
        "from sklearn.preprocessing import StandardScaler, LabelEncoder\n",
        "from category_encoders.one_hot import OneHotEncoder, OrdinalEncoder\n",
        "from tensorflow.keras.models import Sequential\n",
        "from tensorflow.keras.layers import Dense, Dropout\n",
        "from keras.regularizers import l1, l2, l1_l2\n",
        "from keras.callbacks import EarlyStopping"
      ]
    },
    {
      "cell_type": "code",
      "execution_count": 221,
      "metadata": {
        "id": "zKK1C2doAA_2"
      },
      "outputs": [],
      "source": [
        "# Carregando o arquivo CSV.\n",
        "\n",
        "url = \"http://data.insideairbnb.com/united-states/ny/new-york-city/2024-02-06/data/listings.csv.gz\"\n",
        "\n",
        "dataset = pd.read_csv(url)"
      ]
    },
    {
      "cell_type": "code",
      "execution_count": 222,
      "metadata": {
        "id": "E1qwy-wFFc_q"
      },
      "outputs": [],
      "source": [
        "# selecionando um subconjunto específico de colunas.\n",
        "\n",
        "dataset = dataset[[\"neighbourhood_cleansed\", \"property_type\", \"room_type\", \"accommodates\", \"bathrooms\", \"bedrooms\", \"beds\", \"price\"]]"
      ]
    },
    {
      "cell_type": "code",
      "execution_count": null,
      "metadata": {
        "id": "mGIMJ19ZU1O9"
      },
      "outputs": [],
      "source": [
        "# fornece informações detalhadas sobre o DataFrame.\n",
        "\n",
        "dataset.info(verbose=True)"
      ]
    },
    {
      "cell_type": "code",
      "execution_count": null,
      "metadata": {
        "id": "_F8ElsUhUhYN"
      },
      "outputs": [],
      "source": [
        "# Verificando tipos 'objetos'.\n",
        "\n",
        "dataset.select_dtypes(include='object').describe()"
      ]
    },
    {
      "cell_type": "code",
      "source": [
        "# Verificando tipos 'float'.\n",
        "\n",
        "dataset.select_dtypes(include='float').describe()"
      ],
      "metadata": {
        "id": "LpWc6NKyeRt-"
      },
      "execution_count": null,
      "outputs": []
    },
    {
      "cell_type": "code",
      "execution_count": null,
      "metadata": {
        "id": "OOiAmplteR_0"
      },
      "outputs": [],
      "source": [
        "# Verificando tipos 'int'.\n",
        "\n",
        "dataset.select_dtypes(include='int').describe()"
      ]
    },
    {
      "cell_type": "code",
      "source": [
        "# dropando valores NaN.\n",
        "\n",
        "dataset = dataset.dropna()\n",
        "\n",
        "# Convertendo tipo obj em string.\n",
        "\n",
        "dataset[['neighbourhood_cleansed','property_type','room_type',]] = dataset[['neighbourhood_cleansed','property_type','room_type',]].astype('string')\n",
        "\n",
        "# Convertendo 'price' para float e removendo o $.\n",
        "\n",
        "dataset['price'] = dataset['price'].replace({'\\$': '', ',': ''}, regex=True).astype(float)\n",
        "\n",
        "# Normalizando as categoricas.\n",
        "\n",
        "le = LabelEncoder()\n",
        "\n",
        "# Selecionando as colunas categoricas.\n",
        "\n",
        "dataset_categoricas = dataset[['neighbourhood_cleansed', 'property_type', 'room_type']]\n",
        "\n",
        "for col in dataset_categoricas.columns:\n",
        "    # Atribuindo os valores usando o .loc para modificar o DataFrame original.\n",
        "    dataset_categoricas.loc[:, col] = le.fit_transform(dataset_categoricas[col])\n",
        "\n",
        "# Normalizando as numericas.\n",
        "\n",
        "scaler = StandardScaler()\n",
        "\n",
        "# Selecionando as colunas numéricas.\n",
        "\n",
        "dataset_numericas = dataset[['accommodates', 'bathrooms', 'bedrooms', 'beds', 'price']]\n",
        "\n",
        "dataset = pd.concat([dataset_numericas, dataset_categoricas], axis=1)\n",
        "\n",
        "# Ajustando o scaler às colunas numéricas.\n",
        "\n",
        "dataset = scaler.fit_transform(dataset)"
      ],
      "metadata": {
        "id": "XfCbx3FZtKN6"
      },
      "execution_count": null,
      "outputs": []
    },
    {
      "cell_type": "code",
      "source": [
        "# Convertendo o array NumPy para DataFrame com os nomes das colunas.\n",
        "\n",
        "col = ['neighbourhood_cleansed', 'property_type', 'room_type', 'accommodates', 'bathrooms', 'bedrooms', 'beds', 'price']\n",
        "\n",
        "dataset = pd.DataFrame(dataset, columns=col)"
      ],
      "metadata": {
        "id": "C3OVCHztvCfw"
      },
      "execution_count": 227,
      "outputs": []
    },
    {
      "cell_type": "code",
      "source": [
        "print(dataset)"
      ],
      "metadata": {
        "id": "NqitQsRM9gTL"
      },
      "execution_count": null,
      "outputs": []
    },
    {
      "cell_type": "code",
      "source": [
        "X = dataset.drop(columns=['price'])\n",
        "y = dataset['price']\n",
        "\n",
        "X_train_full, X_test, y_train_full, y_test = train_test_split(X, y, test_size=0.2, random_state=16)\n",
        "\n",
        "X_train, X_valid, y_train, y_valid = train_test_split(X_train_full, y_train_full)"
      ],
      "metadata": {
        "id": "bSvpFMzVVkv0"
      },
      "execution_count": 229,
      "outputs": []
    },
    {
      "cell_type": "code",
      "source": [
        "# Criando a regularização L1\n",
        "regularizer_l1 = l1(l=0.01)\n",
        "\n",
        "# Criando a regularização L2\n",
        "regularizer_l2 = l2(l=0.012)\n",
        "\n",
        "# Combinando as duas\n",
        "regularizer_combined = l1_l2(l1=0.01, l2=0.01)"
      ],
      "metadata": {
        "id": "eIEpnmPqALv_"
      },
      "execution_count": 230,
      "outputs": []
    },
    {
      "cell_type": "code",
      "execution_count": 243,
      "metadata": {
        "id": "S1XRDRPddcg2"
      },
      "outputs": [],
      "source": [
        "##Criando arquitetura do modelo\n",
        "\n",
        "model = Sequential()\n",
        "model.add(Dense(32, activation='relu', kernel_regularizer=regularizer_l2, input_shape=X_train.shape[1:]))\n",
        "model.add(Dropout(0.2))\n",
        "model.add(Dense(32, activation='relu'))\n",
        "model.add(Dense(1))"
      ]
    },
    {
      "cell_type": "code",
      "source": [
        "model.summary()"
      ],
      "metadata": {
        "id": "7owxTMAAxlJP"
      },
      "execution_count": null,
      "outputs": []
    },
    {
      "cell_type": "code",
      "execution_count": 245,
      "metadata": {
        "id": "25yAW-qfdgUY"
      },
      "outputs": [],
      "source": [
        "##compilando modelo\n",
        "\n",
        "model.compile(loss='mean_squared_error', optimizer='sgd', metrics=['mean_absolute_error'])"
      ]
    },
    {
      "cell_type": "code",
      "execution_count": 246,
      "metadata": {
        "id": "4ArzyW0tdhxy",
        "colab": {
          "base_uri": "https://localhost:8080/"
        },
        "outputId": "4c4945fd-2f40-4ca4-e7a2-328b0349c486"
      },
      "outputs": [
        {
          "output_type": "stream",
          "name": "stdout",
          "text": [
            "Epoch 1/30\n",
            "452/452 [==============================] - 2s 3ms/step - loss: 0.4367 - mean_absolute_error: 0.3621 - val_loss: 0.3168 - val_mean_absolute_error: 0.2497\n",
            "Epoch 2/30\n",
            "452/452 [==============================] - 1s 2ms/step - loss: 0.3042 - mean_absolute_error: 0.2806 - val_loss: 0.2186 - val_mean_absolute_error: 0.1914\n",
            "Epoch 3/30\n",
            "452/452 [==============================] - 1s 2ms/step - loss: 0.2650 - mean_absolute_error: 0.2427 - val_loss: 0.1493 - val_mean_absolute_error: 0.1667\n",
            "Epoch 4/30\n",
            "452/452 [==============================] - 1s 2ms/step - loss: 0.1566 - mean_absolute_error: 0.1937 - val_loss: 0.1262 - val_mean_absolute_error: 0.1565\n",
            "Epoch 5/30\n",
            "452/452 [==============================] - 1s 2ms/step - loss: 0.1324 - mean_absolute_error: 0.1744 - val_loss: 0.1078 - val_mean_absolute_error: 0.1378\n",
            "Epoch 6/30\n",
            "452/452 [==============================] - 1s 2ms/step - loss: 0.1129 - mean_absolute_error: 0.1606 - val_loss: 0.0931 - val_mean_absolute_error: 0.1245\n",
            "Epoch 7/30\n",
            "452/452 [==============================] - 1s 2ms/step - loss: 0.0963 - mean_absolute_error: 0.1459 - val_loss: 0.0823 - val_mean_absolute_error: 0.1158\n",
            "Epoch 8/30\n",
            "452/452 [==============================] - 1s 3ms/step - loss: 0.0834 - mean_absolute_error: 0.1333 - val_loss: 0.0729 - val_mean_absolute_error: 0.1047\n",
            "Epoch 9/30\n",
            "452/452 [==============================] - 2s 3ms/step - loss: 0.0745 - mean_absolute_error: 0.1237 - val_loss: 0.0661 - val_mean_absolute_error: 0.1001\n",
            "Epoch 10/30\n",
            "452/452 [==============================] - 1s 3ms/step - loss: 0.0674 - mean_absolute_error: 0.1148 - val_loss: 0.0606 - val_mean_absolute_error: 0.0936\n",
            "Epoch 11/30\n",
            "452/452 [==============================] - 1s 2ms/step - loss: 0.0615 - mean_absolute_error: 0.1075 - val_loss: 0.0563 - val_mean_absolute_error: 0.0847\n",
            "Epoch 12/30\n",
            "452/452 [==============================] - 1s 2ms/step - loss: 0.0572 - mean_absolute_error: 0.1002 - val_loss: 0.0525 - val_mean_absolute_error: 0.0791\n",
            "Epoch 13/30\n",
            "452/452 [==============================] - 1s 3ms/step - loss: 0.0527 - mean_absolute_error: 0.0944 - val_loss: 0.0500 - val_mean_absolute_error: 0.0772\n",
            "Epoch 14/30\n",
            "452/452 [==============================] - 1s 2ms/step - loss: 0.0495 - mean_absolute_error: 0.0883 - val_loss: 0.0486 - val_mean_absolute_error: 0.0764\n",
            "Epoch 15/30\n",
            "452/452 [==============================] - 1s 2ms/step - loss: 0.0477 - mean_absolute_error: 0.0845 - val_loss: 0.0465 - val_mean_absolute_error: 0.0699\n",
            "Epoch 16/30\n",
            "452/452 [==============================] - 1s 3ms/step - loss: 0.0455 - mean_absolute_error: 0.0810 - val_loss: 0.0447 - val_mean_absolute_error: 0.0652\n",
            "Epoch 17/30\n",
            "452/452 [==============================] - 1s 2ms/step - loss: 0.0439 - mean_absolute_error: 0.0769 - val_loss: 0.0434 - val_mean_absolute_error: 0.0656\n",
            "Epoch 18/30\n",
            "452/452 [==============================] - 1s 3ms/step - loss: 0.0423 - mean_absolute_error: 0.0745 - val_loss: 0.0424 - val_mean_absolute_error: 0.0609\n",
            "Epoch 19/30\n",
            "452/452 [==============================] - 1s 3ms/step - loss: 0.0422 - mean_absolute_error: 0.0726 - val_loss: 0.0417 - val_mean_absolute_error: 0.0589\n",
            "Epoch 20/30\n",
            "452/452 [==============================] - 2s 4ms/step - loss: 0.0407 - mean_absolute_error: 0.0688 - val_loss: 0.0410 - val_mean_absolute_error: 0.0571\n",
            "Epoch 21/30\n",
            "452/452 [==============================] - 1s 3ms/step - loss: 0.0403 - mean_absolute_error: 0.0670 - val_loss: 0.0403 - val_mean_absolute_error: 0.0578\n",
            "Epoch 22/30\n",
            "452/452 [==============================] - 1s 2ms/step - loss: 0.0391 - mean_absolute_error: 0.0643 - val_loss: 0.0400 - val_mean_absolute_error: 0.0564\n",
            "Epoch 23/30\n",
            "452/452 [==============================] - 1s 2ms/step - loss: 0.0387 - mean_absolute_error: 0.0629 - val_loss: 0.0400 - val_mean_absolute_error: 0.0593\n",
            "Epoch 24/30\n",
            "452/452 [==============================] - 1s 2ms/step - loss: 0.0379 - mean_absolute_error: 0.0619 - val_loss: 0.0402 - val_mean_absolute_error: 0.0634\n",
            "Epoch 25/30\n",
            "452/452 [==============================] - 1s 2ms/step - loss: 0.0381 - mean_absolute_error: 0.0605 - val_loss: 0.0390 - val_mean_absolute_error: 0.0548\n",
            "Epoch 26/30\n",
            "452/452 [==============================] - 1s 2ms/step - loss: 0.0374 - mean_absolute_error: 0.0594 - val_loss: 0.0392 - val_mean_absolute_error: 0.0584\n",
            "Epoch 27/30\n",
            "452/452 [==============================] - 1s 2ms/step - loss: 0.0370 - mean_absolute_error: 0.0579 - val_loss: 0.0386 - val_mean_absolute_error: 0.0543\n",
            "Epoch 28/30\n",
            "452/452 [==============================] - 1s 3ms/step - loss: 0.0370 - mean_absolute_error: 0.0578 - val_loss: 0.0387 - val_mean_absolute_error: 0.0556\n",
            "Epoch 29/30\n",
            "452/452 [==============================] - 1s 3ms/step - loss: 0.0372 - mean_absolute_error: 0.0569 - val_loss: 0.0379 - val_mean_absolute_error: 0.0510\n",
            "Epoch 30/30\n",
            "452/452 [==============================] - 2s 3ms/step - loss: 0.0366 - mean_absolute_error: 0.0558 - val_loss: 0.0378 - val_mean_absolute_error: 0.0498\n"
          ]
        }
      ],
      "source": [
        "##Treinando modelo (completar)\n",
        "\n",
        "history = model.fit(X_train, y_train,\n",
        "                    epochs=30,\n",
        "                    verbose=1,\n",
        "                    validation_data=(X_valid, y_valid))"
      ]
    },
    {
      "cell_type": "markdown",
      "metadata": {
        "id": "9WQvWZOoITNg"
      },
      "source": [
        "**Avaliando Resultados**"
      ]
    },
    {
      "cell_type": "code",
      "execution_count": 247,
      "metadata": {
        "colab": {
          "base_uri": "https://localhost:8080/"
        },
        "id": "nqNyRJPlQHnc",
        "outputId": "01533683-abf5-42b0-b9f6-0bd4bc365b14"
      },
      "outputs": [
        {
          "output_type": "stream",
          "name": "stdout",
          "text": [
            "1/1 [==============================] - 0s 59ms/step\n",
            "[[-0.8654484]\n",
            " [ 1.096221 ]\n",
            " [-0.8726712]]\n"
          ]
        }
      ],
      "source": [
        "X_new = X_test[:3]\n",
        "\n",
        "y_pred = model.predict(X_new)\n",
        "\n",
        "print(y_pred)"
      ]
    },
    {
      "cell_type": "code",
      "source": [
        "num_epochs = 30\n",
        "\n",
        "plt.style.use(\"ggplot\")\n",
        "plt.figure()\n",
        "plt.plot(np.arange(0, num_epochs), history.history[\"loss\"], label=\"Training Loss\")\n",
        "plt.plot(np.arange(0, num_epochs), history.history[\"mean_absolute_error\"], label=\"Training Mean Absolute Error\")\n",
        "plt.plot(np.arange(0, num_epochs), history.history[\"val_loss\"], label=\"Validation Loss\")\n",
        "plt.plot(np.arange(0, num_epochs), history.history[\"val_mean_absolute_error\"], label=\"Validation Mean Absolute Error\")\n",
        "plt.title(\"Training and Validation Metrics\")\n",
        "plt.xlabel(\"Epoch #\")\n",
        "plt.ylabel(\"Metrics\")\n",
        "plt.legend()\n",
        "plt.show()\n"
      ],
      "metadata": {
        "colab": {
          "base_uri": "https://localhost:8080/",
          "height": 477
        },
        "id": "fXBAZfQJ-Bmh",
        "outputId": "8ef2eda2-ebe4-49f9-d496-9ad328d714ab"
      },
      "execution_count": 248,
      "outputs": [
        {
          "output_type": "display_data",
          "data": {
            "text/plain": [
              "<Figure size 640x480 with 1 Axes>"
            ],
            "image/png": "[encoded data removed]"
          },
          "metadata": {}
        }
      ]
    },
    {
      "cell_type": "code",
      "execution_count": null,
      "metadata": {
        "colab": {
          "base_uri": "https://localhost:8080/"
        },
        "id": "psBtJ8OzCTgw",
        "outputId": "fb92c03c-dad2-4f98-b1c9-16b77cd2575d"
      },
      "outputs": [
        {
          "output_type": "stream",
          "name": "stdout",
          "text": [
            "151/151 [==============================] - 0s 2ms/step - loss: 0.0649 - mean_absolute_error: 0.1384\n"
          ]
        }
      ],
      "source": [
        "mse_test = model.evaluate(X_test,y_test)"
      ]
    },
    {
      "cell_type": "code",
      "source": [
        "# serialize model to JSON\n",
        "model_json = model.to_json()\n",
        "with open(\"model.json\", \"w\") as json_file:\n",
        "    json_file.write(model_json)\n",
        "\n",
        "# serialize weights to HDF5\n",
        "model.save_weights(\"model.h5\")\n",
        "print(\"Saved model to disk\")\n",
        "\n"
      ],
      "metadata": {
        "id": "Y3Jk9EtH-EV8",
        "colab": {
          "base_uri": "https://localhost:8080/"
        },
        "outputId": "1ea5841a-cdf5-44ab-c91a-97aa100156a3"
      },
      "execution_count": 250,
      "outputs": [
        {
          "output_type": "stream",
          "name": "stdout",
          "text": [
            "Saved model to disk\n"
          ]
        }
      ]
    },
    {
      "cell_type": "code",
      "source": [
        "from keras.models import model_from_json\n",
        "\n",
        "# load json and create model\n",
        "json_file = open('model.json', 'r')\n",
        "loaded_model_json = json_file.read()\n",
        "json_file.close()\n",
        "loaded_model = model_from_json(loaded_model_json)\n",
        "\n",
        "# load weights into new model\n",
        "loaded_model.load_weights(\"model.h5\")\n",
        "print(\"Loaded model from disk\")"
      ],
      "metadata": {
        "colab": {
          "base_uri": "https://localhost:8080/"
        },
        "id": "IlG0rqoURKCq",
        "outputId": "9020b380-383a-49d2-c8fd-65badc969207"
      },
      "execution_count": 252,
      "outputs": [
        {
          "output_type": "stream",
          "name": "stdout",
          "text": [
            "Loaded model from disk\n"
          ]
        }
      ]
    }
  ],
  "metadata": {
    "accelerator": "TPU",
    "colab": {
      "provenance": [],
      "include_colab_link": true
    },
    "kernelspec": {
      "display_name": "Python 3",
      "name": "python3"
    },
    "language_info": {
      "name": "python"
    }
  },
  "nbformat": 4,
  "nbformat_minor": 0
}