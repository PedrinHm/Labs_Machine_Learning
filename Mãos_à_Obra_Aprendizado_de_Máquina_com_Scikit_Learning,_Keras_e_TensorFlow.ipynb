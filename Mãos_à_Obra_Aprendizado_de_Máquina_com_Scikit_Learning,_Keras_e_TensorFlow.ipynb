{
  "cells": [
    {
      "cell_type": "markdown",
      "metadata": {
        "id": "view-in-github",
        "colab_type": "text"
      },
      "source": [
        "<a href=\"https://colab.research.google.com/github/PedrinHm/Labs_Machine_Learning/blob/main/M%C3%A3os_%C3%A0_Obra_Aprendizado_de_M%C3%A1quina_com_Scikit_Learning%2C_Keras_e_TensorFlow.ipynb\" target=\"_parent\"><img src=\"https://colab.research.google.com/assets/colab-badge.svg\" alt=\"Open In Colab\"/></a>"
      ]
    },
    {
      "cell_type": "code",
      "execution_count": 2,
      "metadata": {
        "id": "5TgQrnoI6cGL"
      },
      "outputs": [],
      "source": [
        "import tensorflow as tf\n",
        "from tensorflow import keras\n",
        "import tensorflow as tf\n",
        "\n",
        "import numpy as np\n",
        "import matplotlib.pyplot as plt"
      ]
    },
    {
      "cell_type": "code",
      "execution_count": 3,
      "metadata": {
        "id": "EV0-xNr2AoTd",
        "colab": {
          "base_uri": "https://localhost:8080/"
        },
        "outputId": "b68476e1-a0f8-4d9c-83e6-40b5979eb3dd"
      },
      "outputs": [
        {
          "output_type": "stream",
          "name": "stdout",
          "text": [
            "Downloading data from https://storage.googleapis.com/tensorflow/tf-keras-datasets/train-labels-idx1-ubyte.gz\n",
            "29515/29515 [==============================] - 0s 0us/step\n",
            "Downloading data from https://storage.googleapis.com/tensorflow/tf-keras-datasets/train-images-idx3-ubyte.gz\n",
            "26421880/26421880 [==============================] - 0s 0us/step\n",
            "Downloading data from https://storage.googleapis.com/tensorflow/tf-keras-datasets/t10k-labels-idx1-ubyte.gz\n",
            "5148/5148 [==============================] - 0s 0us/step\n",
            "Downloading data from https://storage.googleapis.com/tensorflow/tf-keras-datasets/t10k-images-idx3-ubyte.gz\n",
            "4422102/4422102 [==============================] - 0s 0us/step\n"
          ]
        }
      ],
      "source": [
        "fashion_mnist = keras.datasets.fashion_mnist\n",
        "(X_train_full, y_train_full), (X_test, y_test) = fashion_mnist.load_data()"
      ]
    },
    {
      "cell_type": "code",
      "execution_count": 4,
      "metadata": {
        "id": "qJRRCA-kAr_W"
      },
      "outputs": [],
      "source": [
        "X_valid, X_train = X_train_full[:5000] / 255.0, X_train_full[5000:] / 255.0\n",
        "\n",
        "y_valid, y_train = y_train_full[:5000], y_train_full[5000:]"
      ]
    },
    {
      "cell_type": "code",
      "execution_count": 5,
      "metadata": {
        "colab": {
          "base_uri": "https://localhost:8080/"
        },
        "id": "vtNcgfCK7bPM",
        "outputId": "4b3e61df-5b68-4470-9d26-746548f56cc0"
      },
      "outputs": [
        {
          "output_type": "stream",
          "name": "stdout",
          "text": [
            "X_train:(55000, 28, 28, 1)\n",
            "X_test:\t(10000, 28, 28, 1)\n"
          ]
        }
      ],
      "source": [
        "# redimensionar as imagens\n",
        "X_train = X_train.reshape((X_train.shape[0], 28, 28, 1))\n",
        "X_test = X_test.reshape((X_test.shape[0], 28, 28, 1))\n",
        "\n",
        "print(\"X_train:{}\".format(X_train.shape))\n",
        "print(\"X_test:\\t{}\".format(X_test.shape))"
      ]
    },
    {
      "cell_type": "code",
      "execution_count": 6,
      "metadata": {
        "id": "oUKBjX1363Nn"
      },
      "outputs": [],
      "source": [
        "y_train = keras.utils.to_categorical(y_train)\n",
        "y_test = keras.utils.to_categorical(y_train)"
      ]
    },
    {
      "cell_type": "code",
      "execution_count": 7,
      "metadata": {
        "id": "f6JpQyKOAtNd"
      },
      "outputs": [],
      "source": [
        "class_names = [\"T-shirt/top\", \"Trouser\", \"Pullover\", \"Dress\", \"Coat\",\n",
        "                \"Sandal\", \"Shirt\", \"Sneaker\", \"Bag\", \"Ankle boot\"]"
      ]
    },
    {
      "cell_type": "code",
      "execution_count": 9,
      "metadata": {
        "id": "V1h9gAROAv5A"
      },
      "outputs": [],
      "source": [
        "model = keras.models.Sequential()\n",
        "\n",
        "model.add(keras.layers.Conv2D(32, 3, padding=\"same\", activation='relu',))\n",
        "model.add(keras.layers.BatchNormalization(axis=1))\n",
        "model.add(keras.layers.Conv2D(32, (3, 3), padding=\"same\", activation='relu'))\n",
        "model.add(keras.layers.BatchNormalization(axis=1))\n",
        "model.add(keras.layers.MaxPooling2D(pool_size=(2, 2)))\n",
        "model.add(keras.layers.Dropout(0.25))\n",
        "\n",
        "model.add(keras.layers.Conv2D(64, (3, 3), padding=\"same\", activation='relu'))\n",
        "model.add(keras.layers.BatchNormalization(axis=1))\n",
        "model.add(keras.layers.Conv2D(64, (3, 3), padding=\"same\", activation='relu'))\n",
        "model.add(keras.layers.BatchNormalization(axis=1))\n",
        "model.add(keras.layers.MaxPooling2D(pool_size=(2, 2)))\n",
        "model.add(keras.layers.Dropout(0.25))\n",
        "\n",
        "model.add(keras.layers.Flatten())\n",
        "model.add(keras.layers.Dense(512, activation='relu'))\n",
        "model.add(keras.layers.BatchNormalization())\n",
        "model.add(keras.layers.Dropout(0.5))\n",
        "\n",
        "model.add(keras.layers.Dense(10, activation='softmax'))"
      ]
    },
    {
      "cell_type": "code",
      "execution_count": 10,
      "metadata": {
        "colab": {
          "base_uri": "https://localhost:8080/"
        },
        "id": "c9KiTsJ8Ayoc",
        "outputId": "7b207717-1508-4d42-e7b3-02432343fa73"
      },
      "outputs": [
        {
          "output_type": "execute_result",
          "data": {
            "text/plain": [
              "[<keras.src.layers.convolutional.conv2d.Conv2D at 0x7cddfe5c3f70>,\n",
              " <keras.src.layers.normalization.batch_normalization.BatchNormalization at 0x7cddfe52bbb0>,\n",
              " <keras.src.layers.convolutional.conv2d.Conv2D at 0x7cddfe52b610>,\n",
              " <keras.src.layers.normalization.batch_normalization.BatchNormalization at 0x7cddfe52a950>,\n",
              " <keras.src.layers.pooling.max_pooling2d.MaxPooling2D at 0x7cddfe5c3fa0>,\n",
              " <keras.src.layers.regularization.dropout.Dropout at 0x7cddfe52a110>,\n",
              " <keras.src.layers.convolutional.conv2d.Conv2D at 0x7cddfe52b850>,\n",
              " <keras.src.layers.normalization.batch_normalization.BatchNormalization at 0x7cddfe52b8e0>,\n",
              " <keras.src.layers.convolutional.conv2d.Conv2D at 0x7cddfe529690>,\n",
              " <keras.src.layers.normalization.batch_normalization.BatchNormalization at 0x7cdde4978250>,\n",
              " <keras.src.layers.pooling.max_pooling2d.MaxPooling2D at 0x7cddfe52a290>,\n",
              " <keras.src.layers.regularization.dropout.Dropout at 0x7cdde49786d0>,\n",
              " <keras.src.layers.reshaping.flatten.Flatten at 0x7cdde4978eb0>,\n",
              " <keras.src.layers.core.dense.Dense at 0x7cdde4979600>,\n",
              " <keras.src.layers.normalization.batch_normalization.BatchNormalization at 0x7cdde49793f0>,\n",
              " <keras.src.layers.regularization.dropout.Dropout at 0x7cdde4979690>,\n",
              " <keras.src.layers.core.dense.Dense at 0x7cdde4979f90>]"
            ]
          },
          "metadata": {},
          "execution_count": 10
        }
      ],
      "source": [
        "model.layers"
      ]
    },
    {
      "cell_type": "code",
      "execution_count": 11,
      "metadata": {
        "colab": {
          "base_uri": "https://localhost:8080/",
          "height": 187
        },
        "id": "zEIuge2CAzpx",
        "outputId": "caa9202f-7f39-412b-c69c-755e6f731686"
      },
      "outputs": [
        {
          "output_type": "execute_result",
          "data": {
            "text/plain": [
              "<bound method Model.get_layer of <keras.src.engine.sequential.Sequential object at 0x7cddfe5c3eb0>>"
            ],
            "text/html": [
              "<div style=\"max-width:800px; border: 1px solid var(--colab-border-color);\"><style>\n",
              "      pre.function-repr-contents {\n",
              "        overflow-x: auto;\n",
              "        padding: 8px 12px;\n",
              "        max-height: 500px;\n",
              "      }\n",
              "\n",
              "      pre.function-repr-contents.function-repr-contents-collapsed {\n",
              "        cursor: pointer;\n",
              "        max-height: 100px;\n",
              "      }\n",
              "    </style>\n",
              "    <pre style=\"white-space: initial; background:\n",
              "         var(--colab-secondary-surface-color); padding: 8px 12px;\n",
              "         border-bottom: 1px solid var(--colab-border-color);\"><b>keras.src.engine.training.Model.get_layer</b><br/>def get_layer(name=None, index=None)</pre><pre class=\"function-repr-contents function-repr-contents-collapsed\" style=\"\"><a class=\"filepath\" style=\"display:none\" href=\"#\">/usr/local/lib/python3.10/dist-packages/keras/src/engine/training.py</a>Retrieves a layer based on either its name (unique) or index.\n",
              "\n",
              "If `name` and `index` are both provided, `index` will take precedence.\n",
              "Indices are based on order of horizontal graph traversal (bottom-up).\n",
              "\n",
              "Args:\n",
              "    name: String, name of layer.\n",
              "    index: Integer, index of layer.\n",
              "\n",
              "Returns:\n",
              "    A layer instance.</pre>\n",
              "      <script>\n",
              "      if (google.colab.kernel.accessAllowed && google.colab.files && google.colab.files.view) {\n",
              "        for (const element of document.querySelectorAll('.filepath')) {\n",
              "          element.style.display = 'block'\n",
              "          element.onclick = (event) => {\n",
              "            event.preventDefault();\n",
              "            event.stopPropagation();\n",
              "            google.colab.files.view(element.textContent, 3532);\n",
              "          };\n",
              "        }\n",
              "      }\n",
              "      for (const element of document.querySelectorAll('.function-repr-contents')) {\n",
              "        element.onclick = (event) => {\n",
              "          event.preventDefault();\n",
              "          event.stopPropagation();\n",
              "          element.classList.toggle('function-repr-contents-collapsed');\n",
              "        };\n",
              "      }\n",
              "      </script>\n",
              "      </div>"
            ]
          },
          "metadata": {},
          "execution_count": 11
        }
      ],
      "source": [
        "hidden1 = model.layers[1]\n",
        "hidden1.name\n",
        "model.get_layer"
      ]
    },
    {
      "cell_type": "code",
      "execution_count": 12,
      "metadata": {
        "id": "3EZKRhWsA0us"
      },
      "outputs": [],
      "source": [
        "model.compile(loss=\"categorical_crossentropy\",\n",
        "              optimizer=\"sgd\",\n",
        "              metrics=[\"accuracy\"])"
      ]
    },
    {
      "cell_type": "code",
      "execution_count": 13,
      "metadata": {
        "colab": {
          "base_uri": "https://localhost:8080/"
        },
        "id": "XoIOMS_wA2N1",
        "outputId": "009b5f4f-2cfc-4239-89c4-566ea78b8ee2"
      },
      "outputs": [
        {
          "output_type": "stream",
          "name": "stdout",
          "text": [
            "Epoch 1/10\n",
            "151/151 [==============================] - 278s 2s/step - loss: 1.0897 - accuracy: 0.6504 - val_loss: 2.1182 - val_accuracy: 0.3521\n",
            "Epoch 2/10\n",
            "151/151 [==============================] - 276s 2s/step - loss: 0.6784 - accuracy: 0.7692 - val_loss: 1.0915 - val_accuracy: 0.6188\n",
            "Epoch 3/10\n",
            "151/151 [==============================] - 275s 2s/step - loss: 0.5682 - accuracy: 0.8005 - val_loss: 0.5211 - val_accuracy: 0.8099\n",
            "Epoch 4/10\n",
            "151/151 [==============================] - 256s 2s/step - loss: 0.5179 - accuracy: 0.8178 - val_loss: 0.3861 - val_accuracy: 0.8586\n",
            "Epoch 5/10\n",
            "151/151 [==============================] - 260s 2s/step - loss: 0.4758 - accuracy: 0.8308 - val_loss: 0.3692 - val_accuracy: 0.8638\n",
            "Epoch 6/10\n",
            "151/151 [==============================] - 277s 2s/step - loss: 0.4575 - accuracy: 0.8379 - val_loss: 0.3406 - val_accuracy: 0.8761\n",
            "Epoch 7/10\n",
            "151/151 [==============================] - 274s 2s/step - loss: 0.4310 - accuracy: 0.8454 - val_loss: 0.3338 - val_accuracy: 0.8768\n",
            "Epoch 8/10\n",
            "151/151 [==============================] - 274s 2s/step - loss: 0.4154 - accuracy: 0.8510 - val_loss: 0.3194 - val_accuracy: 0.8830\n",
            "Epoch 9/10\n",
            "151/151 [==============================] - 272s 2s/step - loss: 0.4059 - accuracy: 0.8529 - val_loss: 0.3323 - val_accuracy: 0.8746\n",
            "Epoch 10/10\n",
            "151/151 [==============================] - 277s 2s/step - loss: 0.3895 - accuracy: 0.8585 - val_loss: 0.3065 - val_accuracy: 0.8855\n"
          ]
        }
      ],
      "source": [
        "history = model.fit(X_train, y_train, epochs=10,\n",
        "                    batch_size=256, validation_split=(0.3))"
      ]
    },
    {
      "cell_type": "code",
      "execution_count": 14,
      "metadata": {
        "id": "njqVazEPA3Sp",
        "colab": {
          "base_uri": "https://localhost:8080/",
          "height": 451
        },
        "outputId": "fec0cacf-5c44-4ff0-b226-915dc5854f82"
      },
      "outputs": [
        {
          "output_type": "display_data",
          "data": {
            "text/plain": [
              "<Figure size 800x500 with 1 Axes>"
            ],
            "image/png": "[encoded data removed]"
          },
          "metadata": {}
        }
      ],
      "source": [
        "import pandas as pd\n",
        "import matplotlib.pyplot as plt\n",
        "\n",
        "pd.DataFrame(history.history).plot(figsize=(8, 5))\n",
        "plt.grid(True)\n",
        "plt.gca().set_ylim(0, 1) # defina o intervalo vertical para [0-1]\n",
        "plt.show()"
      ]
    },
    {
      "cell_type": "code",
      "execution_count": 19,
      "metadata": {
        "id": "HJ_PmkYM546Y",
        "colab": {
          "base_uri": "https://localhost:8080/"
        },
        "outputId": "6bbf343f-6490-4666-8846-dddde32edc35"
      },
      "outputs": [
        {
          "output_type": "stream",
          "name": "stdout",
          "text": [
            "Saved model to disk\n"
          ]
        }
      ],
      "source": [
        "model_json = model.to_json()\n",
        "with open(\"model.json\", \"w\") as json_file:\n",
        "    json_file.write(model_json)\n",
        "\n",
        "# serialize weights to HDF5\n",
        "model.save_weights(\"model.h5\")\n",
        "print(\"Saved model to disk\")\n"
      ]
    }
  ],
  "metadata": {
    "colab": {
      "provenance": [],
      "authorship_tag": "ABX9TyMO5jHTVCBjZHJMnrl6m8kR",
      "include_colab_link": true
    },
    "kernelspec": {
      "display_name": "Python 3",
      "name": "python3"
    },
    "language_info": {
      "name": "python"
    }
  },
  "nbformat": 4,
  "nbformat_minor": 0
}